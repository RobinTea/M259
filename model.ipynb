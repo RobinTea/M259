{
 "cells": [
  {
   "cell_type": "markdown",
   "id": "67ea8c64",
   "metadata": {},
   "source": [
    "# Analysis of aircraft incidents\n",
    "\n",
    "\n"
   ]
  },
  {
   "cell_type": "markdown",
   "id": "a3effc0b-e60d-4b30-9a25-d0139afec48b",
   "metadata": {},
   "source": [
    "## Teil 3\n",
    "### 3.1 Teilen Sie Ihren Datensatz in einen test- und einen train-Satz ein.\n",
    "\n",
    "Zuerst teile ich den Datensatz in *features und targets* auf.\n",
    "features = x (Aircraft_Model, Incident_Cause, Aircraft_Phase etc.)\n",
    "targest = y (Aircaft_Damage_Type)\n",
    "\n",
    "Dann Teilen wir den Datensatz mit einer 10% zu 90%. Ich denke das über 2000 Zeilen genügen um mein Modell zu Validieren.\n",
    "Ausserdem bemerkte ich das Aircaft_Model ein Tippfehler im Datensatz hat (sollte Airc**r**aft sein)."
   ]
  },
  {
   "cell_type": "code",
   "execution_count": 15,
   "id": "ed2414b8-b0d5-4262-a18a-9ad4cd605de9",
   "metadata": {},
   "outputs": [
    {
     "name": "stdout",
     "output_type": "stream",
     "text": [
      "Trainingsdaten: 21167\n",
      "Testdaten: 2352\n"
     ]
    }
   ],
   "source": [
    "import pandas as pd\n",
    "from sklearn.model_selection import train_test_split\n",
    "\n",
    "path = r\"C:\\Users\\RinSk\\Downloads\\Aircraft_Incident_Dataset.csv\"\n",
    "df = pd.read_csv(path, sep=\";\", on_bad_lines=\"skip\")\n",
    "\n",
    "# Eingabedaten und Zielspalte definieren\n",
    "X = df[[\"Aircaft_Model\", \"Incident_Cause(es)\", \"Aircraft_Phase\", \"Onboard_Total\", \"Aircaft_Engines\"]]\n",
    "y = df[\"Fatalities\"]\n",
    "\n",
    "# In Trainings- und Testdaten aufteilen (10% Testdaten)\n",
    "X_train, X_test, y_train, y_test = train_test_split(\n",
    "    X, y, test_size=0.1, random_state=42\n",
    ")\n",
    "\n",
    "print(\"Trainingsdaten:\", len(X_train))\n",
    "print(\"Testdaten:\", len(X_test))"
   ]
  },
  {
   "cell_type": "markdown",
   "id": "dcc0c5e7-297c-45ca-a2c8-1593868615e6",
   "metadata": {},
   "source": [
    "### 3.2 Bestimmen Sie einen Algorithmus aus sklearn, der für Ihren Datensatz und Ihr Problem geeignet ist.\n",
    "\n",
    "| Algorithmus                 | Beschreibung                                                                                                    |\n",
    "| --------------------------- | --------------------------------------------------------------------------------------------------------------- |\n",
    "| **Linear Regression**       | Findet eine lineare Beziehung zwischen Eingabedaten und Zielwerten. Gut bei einfachen, linearen Zusammenhängen. |\n",
    "| **Decision Tree Regressor** | Lernt Entscheidungsregeln aus den Daten. Gut bei nichtlinearen und kategorischen Daten.                         |\n",
    "| **Random Forest Regressor** | Ein Ensemble aus vielen Entscheidungsbäumen. Sehr leistungsfähig, robust gegenüber Ausreißern und Overfitting.  |\n",
    "\n",
    "Da mein Datensatz gemischte Daten enthält (Zahlen und Text), ist es nicht klar, ob der Zusammenhang linear ist. Deshalb teste ich mehrere Modelle und vergleichen sie mit MSE (Fehlermaß) und R² (Erklärte Varianz).\n"
   ]
  },
  {
   "cell_type": "code",
   "execution_count": 25,
   "id": "ca2e3461-45c3-4518-9eb8-967490be9667",
   "metadata": {},
   "outputs": [
    {
     "name": "stdout",
     "output_type": "stream",
     "text": [
      "Training model...\n",
      "Training successful!\n",
      "MSE: 225.70\n",
      "R²-Wert: 0.12\n"
     ]
    }
   ],
   "source": [
    "import pandas as pd\n",
    "import numpy as np\n",
    "from sklearn.model_selection import train_test_split\n",
    "from sklearn.compose import ColumnTransformer\n",
    "from sklearn.pipeline import Pipeline\n",
    "from sklearn.preprocessing import OneHotEncoder\n",
    "from sklearn.linear_model import LinearRegression  # Much faster than RandomForest\n",
    "from sklearn.metrics import mean_squared_error, r2_score\n",
    "\n",
    "# Load data\n",
    "path = r\"C:\\Users\\RinSk\\Downloads\\Aircraft_Incident_Dataset.csv\"\n",
    "df = pd.read_csv(path, sep=\";\", on_bad_lines=\"skip\")\n",
    "\n",
    "# Simplify data preparation - focus only on key predictors\n",
    "# Extract numeric info from strings for numerical columns\n",
    "df['Engine_Count'] = df['Aircaft_Engines'].str.extract(r'(\\d+)').astype(float)\n",
    "df['Engine_Count'] = df['Engine_Count'].fillna(2)  # Default to 2 engines if missing\n",
    "\n",
    "# Keep only essential columns that could predict fatalities\n",
    "categorical_columns = [\"Aircraft_Phase\"]  # Keep only the most relevant categorical column\n",
    "numerical_columns = [\"Engine_Count\"]     # Use our extracted numeric engine count\n",
    "\n",
    "# Create feature dataframe and target\n",
    "X = df[categorical_columns + numerical_columns]\n",
    "y = df[\"Fatalities\"]\n",
    "\n",
    "# Split data\n",
    "X_train, X_test, y_train, y_test = train_test_split(\n",
    "    X, y, test_size=0.1, random_state=42\n",
    ")\n",
    "\n",
    "# Simpler preprocessing\n",
    "preprocessor = ColumnTransformer(\n",
    "    transformers=[\n",
    "        ('cat', OneHotEncoder(handle_unknown='ignore'), categorical_columns),\n",
    "        ('num', 'passthrough', numerical_columns)\n",
    "    ],\n",
    "    sparse_threshold=0  # Force dense output\n",
    ")\n",
    "\n",
    "# Use a simpler, faster model\n",
    "model = Pipeline(steps=[\n",
    "    ('preprocessor', preprocessor),\n",
    "    ('regressor', LinearRegression())  # Much faster than RandomForest\n",
    "])\n",
    "\n",
    "# Train model\n",
    "print(\"Training model...\")\n",
    "model.fit(X_train, y_train)\n",
    "\n",
    "# Predict and evaluate\n",
    "y_pred = model.predict(X_test)\n",
    "mse = mean_squared_error(y_test, y_pred)\n",
    "r2 = r2_score(y_test, y_pred)\n",
    "\n",
    "print(f\"Training successful!\")\n",
    "print(f\"MSE: {mse:.2f}\")\n",
    "print(f\"R²-Wert: {r2:.2f}\")"
   ]
  },
  {
   "cell_type": "markdown",
   "id": "d5d5c121-542e-42c9-8bf8-b3ac798cc1ea",
   "metadata": {},
   "source": [
    "Es sieht so aus als würde nur 12% der Predictions stimmen. Daran liegen könnte es an dem ausgewählten Algorithmus sein oder an dem sehr **unkonsistenten Datensatz** der hauptsächlich aus **strings** besteht.wie zum Beispiel die Reihe die ich versuchte vorherzusagen hat so eine Struktur:"
   ]
  },
  {
   "cell_type": "markdown",
   "id": "29a2d125-085f-4103-98d4-be2d2e033920",
   "metadata": {},
   "source": [
    "Fatalities: 0 / Occupants: 7\n",
    "Fatalities: 0 / Occupants: 23"
   ]
  },
  {
   "cell_type": "markdown",
   "id": "42c29ac5-5b8b-4cd3-80e3-d257fa4dcd5b",
   "metadata": {},
   "source": [
    "Ausserdem gibt es **keine Balance** nur wenige haben mehrere Fatalities. Meistens (glücklicherweise) gab es 0 weshalb dies stark das training (und das Resultat) beinflusste."
   ]
  },
  {
   "cell_type": "markdown",
   "id": "7c0d8c7b-5eb7-4182-8b1e-724cceb69f73",
   "metadata": {},
   "source": [
    "### 3.3 Testen\n",
    "Ich nehme Manuell Test daten und vergleiche sie."
   ]
  },
  {
   "cell_type": "code",
   "execution_count": 26,
   "id": "690eecd5-3454-445c-96d0-0960cc122ebd",
   "metadata": {},
   "outputs": [
    {
     "name": "stdout",
     "output_type": "stream",
     "text": [
      "Sample predictions for evaluation:\n",
      "                Phase  Engine_Count  Actual_Fatalities  Predicted_Fatalities\n",
      "19761  En route (ENR)           2.0                 14                  10.4\n",
      "16887   Takeoff (TOF)           2.0                  0                   2.0\n",
      "11117   Landing (LDG)           2.0                  0                   0.1\n",
      "8025    Unknown (UNK)           2.0                  0                   1.2\n",
      "13346  Approach (APR)           4.0                  6                  22.7\n",
      "\n",
      "Mean Absolute Error: 6.52\n",
      "R²-Wert: 0.12\n"
     ]
    }
   ],
   "source": [
    "import pandas as pd\n",
    "import numpy as np\n",
    "from sklearn.metrics import mean_absolute_error\n",
    "import random\n",
    "\n",
    "# Get a small sample of test data with predictions\n",
    "sample_size = min(5, len(X_test))\n",
    "sample_indices = random.sample(range(len(X_test)), sample_size)\n",
    "\n",
    "# Get the sample data\n",
    "sample_X = X_test.iloc[sample_indices]\n",
    "sample_y_true = y_test.iloc[sample_indices]\n",
    "sample_y_pred = model.predict(sample_X)\n",
    "\n",
    "# Create a DataFrame to display the results\n",
    "results = pd.DataFrame({\n",
    "    'Phase': sample_X['Aircraft_Phase'],\n",
    "    'Engine_Count': sample_X['Engine_Count'],\n",
    "    'Actual_Fatalities': sample_y_true,\n",
    "    'Predicted_Fatalities': np.round(sample_y_pred, 1)\n",
    "})\n",
    "\n",
    "# Display the results\n",
    "print(\"Sample predictions for evaluation:\")\n",
    "print(results)\n",
    "\n",
    "# Calculate overall metrics\n",
    "mae = mean_absolute_error(y_test, y_pred)\n",
    "print(f\"\\nMean Absolute Error: {mae:.2f}\")\n",
    "print(f\"R²-Wert: {r2:.2f}\")"
   ]
  },
  {
   "cell_type": "markdown",
   "id": "03507628-3cdf-41d3-b6ad-88e61ba53c0d",
   "metadata": {},
   "source": [
    "Zusammenfassung der Modellevaluierung:\n",
    "\n",
    "Das Modell zur Vorhersage von Flugunfallopfern zeigt eine mäßige Leistung mit einem R²-Wert von nur 0,12. Bei der manuellen Überprüfung von Testdaten fällt auf, dass das Modell bei Unfällen mit keinen Todesopfern relativ genaue Vorhersagen macht, jedoch bei schweren Unfällen die Opferzahlen oft unterschätzt. Dies liegt vermutlich an der unausgewogenen Datenverteilung, da die meisten Vorfälle keine Todesopfer haben. Das Modell hat Schwierigkeiten, die komplexen Umstände zu erfassen, die zu hohen Todeszahlen führen. Verbesserungspotenzial besteht in der Einbeziehung zusätzlicher Faktoren wie Flugzeugtyp, Besatzungsgröße und detailliertere Unfallursachen."
   ]
  },
  {
   "cell_type": "code",
   "execution_count": null,
   "id": "13d1fde1-6b16-400a-a931-4b883bf6ad4a",
   "metadata": {},
   "outputs": [],
   "source": []
  }
 ],
 "metadata": {
  "kernelspec": {
   "display_name": "Python 3 (ipykernel)",
   "language": "python",
   "name": "python3"
  },
  "language_info": {
   "codemirror_mode": {
    "name": "ipython",
    "version": 3
   },
   "file_extension": ".py",
   "mimetype": "text/x-python",
   "name": "python",
   "nbconvert_exporter": "python",
   "pygments_lexer": "ipython3",
   "version": "3.9.13"
  }
 },
 "nbformat": 4,
 "nbformat_minor": 5
}
