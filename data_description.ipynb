{
 "cells": [
  {
   "cell_type": "markdown",
   "id": "67ea8c64",
   "metadata": {},
   "source": [
    "# Analysis of aircraft incidents\n",
    "\n",
    "Datensatz: Der Datensatz enthält Informationen zu Flugzeugvorfällen weltweit. Er dokumentiert Felder wie Datum, Flugzeugmodell, Betreiber, Unfallursache, Ort, Art des Schadens sowie Anzahl der Opfer. Weitere Angaben betreffen die Flugphase, Abflug- und Zielorte sowie Angaben zu Bodenopfern und Kollisionen. Alle Daten stammen aus öffentlich verfügbaren Quellen zu Luftfahrtsicherheit und sind auf Vorfallstatistiken bezogen.\n"
   ]
  },
  {
   "cell_type": "markdown",
   "id": "58f66c93-42cf-4bfc-a79e-f66af92f6e70",
   "metadata": {},
   "source": [
    "um diese Datei zu bearbeiten benutze ich Jupyter"
   ]
  },
  {
   "cell_type": "markdown",
   "id": "a3effc0b-e60d-4b30-9a25-d0139afec48b",
   "metadata": {},
   "source": [
    "## Teil 2\n",
    "### 2.1 Für welches Daten-Feld möchten Sie Vorhersagen treffen können?\n",
    "Ich möchte **Aircaft_Damage_Type** vorhersagen können. Dazu bräuchte ich das Flugzeugmodel und den Grund für den Unfall. Nützlich würden auch die Phase des Fluges, Typ des Triebwerkes und die Passagier Anzahl sein.\n",
    "Gebrauchte Informationen:\n",
    "Aircraft_Model\n",
    "Incident_Cause\n",
    "Aircraft_Phase\n",
    "Onboard_Total\n",
    "Aircaft_Engines"
   ]
  },
  {
   "cell_type": "markdown",
   "id": "f1280101-7931-4027-b3ed-6c195b70d5e5",
   "metadata": {},
   "source": [
    "### 2.2 Bestimmen Sie für jedes Feld einige relevanten statistischen Informationen wie beispielsweise Median und Standardabweichung.\n",
    "\n",
    "Zuerst installiere ich die Pandas erweiterung:"
   ]
  },
  {
   "cell_type": "code",
   "execution_count": null,
   "id": "632a0bb1-e8a2-4c8b-b4ae-f0e7b2a37a9e",
   "metadata": {},
   "outputs": [],
   "source": [
    "pip install pandas"
   ]
  },
  {
   "cell_type": "markdown",
   "id": "26aef5fc-c9d7-4eb3-8036-f9cb35a162e2",
   "metadata": {},
   "source": [
    "Danach berechne ich mithilfe dieses Python Codes die nötigen Daten:"
   ]
  },
  {
   "cell_type": "code",
   "execution_count": 5,
   "id": "39958553-0085-4c17-bcfe-987bfad829ba",
   "metadata": {},
   "outputs": [
    {
     "name": "stdout",
     "output_type": "stream",
     "text": [
      "       Onboard_Crew  Onboard_Passengers  Onboard_Total    Fatalities\n",
      "count           0.0                 0.0            0.0  23519.000000\n",
      "mean            NaN                 NaN            NaN      5.611931\n",
      "std             NaN                 NaN            NaN     22.205937\n",
      "min             NaN                 NaN            NaN      0.000000\n",
      "25%             NaN                 NaN            NaN      0.000000\n",
      "50%             NaN                 NaN            NaN      0.000000\n",
      "75%             NaN                 NaN            NaN      4.000000\n",
      "max             NaN                 NaN            NaN   1692.000000\n"
     ]
    }
   ],
   "source": [
    "import pandas as pd\n",
    "\n",
    "path = r\"C:\\Users\\RinSk\\Downloads\\Aircraft_Incident_Dataset.csv\"\n",
    "\n",
    "# print(df.columns)\n",
    "df = pd.read_csv(path, sep=\";\", on_bad_lines=\"skip\")\n",
    "\n",
    "# Konvertieren\n",
    "df[\"Onboard_Crew\"] = pd.to_numeric(df[\"Onboard_Crew\"], errors=\"coerce\")\n",
    "df[\"Onboard_Passengers\"] = pd.to_numeric(df[\"Onboard_Passengers\"], errors=\"coerce\")\n",
    "df[\"Onboard_Total\"] = pd.to_numeric(df[\"Onboard_Total\"], errors=\"coerce\")\n",
    "df[\"Fatalities\"] = pd.to_numeric(df[\"Fatalities\"], errors=\"coerce\")\n",
    "\n",
    "print(df[[\"Onboard_Crew\", \"Onboard_Passengers\", \"Onboard_Total\", \"Fatalities\"]].describe())\n"
   ]
  },
  {
   "attachments": {},
   "cell_type": "markdown",
   "id": "27576afb-4334-4678-92a2-cf26b7abbf23",
   "metadata": {},
   "source": [
    "Mit diesem Code konnte ich Fatalities ausrechnen jedoch gab es Probleme mit den anderen Spalten. Dies liegt sehr wahrscheinlich daran das im Dataset die Daten keine Integers, sondern Text sind und deshalb nicht berechenbar sind. (folgendes steh in den Felder: *Fatalities: 0 / Occupants: 3*)\n"
   ]
  },
  {
   "cell_type": "markdown",
   "id": "c9660fac-c1e6-44b6-b413-3f331213b2fe",
   "metadata": {},
   "source": [
    "### 2.3 Erstellen Sie mindestens eine Grafik, beispielsweise ein Histogramm für eines der Datenfelder oder eine Regression für mehrere Felder.\n",
    "Wie Sie unten sehen werden "
   ]
  },
  {
   "cell_type": "code",
   "execution_count": 10,
   "id": "db18ee51-09ce-4bc7-88a8-36670c84fc9b",
   "metadata": {},
   "outputs": [
    {
     "data": {
      "image/png": "[encoded data removed]",
      "text/plain": [
       "<Figure size 1000x600 with 1 Axes>"
      ]
     },
     "metadata": {},
     "output_type": "display_data"
    }
   ],
   "source": [
    "import matplotlib.pyplot as plt\n",
    "\n",
    "# Histogramm erstellen\n",
    "plt.figure(figsize=(10, 6))\n",
    "df[\"Fatalities\"].dropna().hist(bins=50)\n",
    "plt.title(\"Verteilung der Todesopfer bei Flugvorfällen\")\n",
    "plt.xlabel(\"Anzahl Todesopfer\")\n",
    "plt.ylabel(\"Anzahl Vorfälle\")\n",
    "plt.grid(True)\n",
    "plt.show()"
   ]
  },
  {
   "cell_type": "markdown",
   "id": "b7ea023c-c7c4-47f1-a7f4-742463f482f7",
   "metadata": {},
   "source": [
    "### 2.4 Skalieren Sie mindestens ein Datenfeld; oder argumentieren Sie in weiteren 50 bis 100 Wörtern in Ihrem Notizbuch, warum dies bei Ihrem Datensatz nicht sinnvoll ist.\n",
    "\n",
    "In diesem Datensatz ist eine Skalierung der Daten grundsätzlich möglich, aber für die grundlegende Analyse nicht zwingend notwendig. Da wir hauptsächlich die Anzahl von Personen und Todesfällen betrachten – also klar interpretierbare numerische Größen – behalten diese Felder auch ohne Skalierung ihre Bedeutung. Zudem wird in vielen statistischen Auswertungen wie Mittelwerten, Histogrammen oder Regressionsmodellen mit linearen Beziehungen keine Skalierung vorausgesetzt. Eine Skalierung ist eher bei maschinellen Lernmodellen oder wenn verschiedene Größenordnungen miteinander kombiniert werden notwendig.\n",
    "\n",
    "Es gibt 2 Hauptgründe warum Skalierung Sinnvoll ist\n"
   ]
  },
  {
   "cell_type": "code",
   "execution_count": 14,
   "id": "7e32d977-9de0-48d5-99b4-a39300cd115c",
   "metadata": {},
   "outputs": [
    {
     "name": "stdout",
     "output_type": "stream",
     "text": [
      "    Fatalities  Fatalities_scaled\n",
      "0            0           0.000000\n",
      "1            0           0.000000\n",
      "2            0           0.000000\n",
      "3            0           0.000000\n",
      "4            0           0.000000\n",
      "5            0           0.000000\n",
      "6            0           0.000000\n",
      "7            0           0.000000\n",
      "8            0           0.000000\n",
      "9            2           0.001182\n",
      "10           0           0.000000\n",
      "11           0           0.000000\n",
      "12           0           0.000000\n",
      "13           0           0.000000\n",
      "14          62           0.036643\n",
      "15           1           0.000591\n",
      "16           4           0.002364\n",
      "17           0           0.000000\n",
      "18           0           0.000000\n",
      "19           0           0.000000\n"
     ]
    }
   ],
   "source": [
    "from sklearn.preprocessing import MinMaxScaler\n",
    "\n",
    "# Initialisieren des Scalers\n",
    "scaler = MinMaxScaler()\n",
    "\n",
    "# Skalieren der Spalte \"Fatalities\"\n",
    "df[\"Fatalities_scaled\"] = scaler.fit_transform(df[[\"Fatalities\"]])\n",
    "\n",
    "# Ausgabe der ersten Werte zum Vergleich\n",
    "print(df[[\"Fatalities\", \"Fatalities_scaled\"]].head(20))\n",
    "\n"
   ]
  },
  {
   "cell_type": "markdown",
   "id": "f2e2232d-2caf-48bb-ab80-558c142ff7f3",
   "metadata": {},
   "source": [
    "you see that even 62 Fatalities are still much lower than the maximum."
   ]
  }
 ],
 "metadata": {
  "kernelspec": {
   "display_name": "Python 3 (ipykernel)",
   "language": "python",
   "name": "python3"
  },
  "language_info": {
   "codemirror_mode": {
    "name": "ipython",
    "version": 3
   },
   "file_extension": ".py",
   "mimetype": "text/x-python",
   "name": "python",
   "nbconvert_exporter": "python",
   "pygments_lexer": "ipython3",
   "version": "3.9.13"
  }
 },
 "nbformat": 4,
 "nbformat_minor": 5
}
